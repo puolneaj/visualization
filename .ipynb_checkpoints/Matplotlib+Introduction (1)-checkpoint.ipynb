{
 "cells": [
  {
   "cell_type": "markdown",
   "metadata": {},
   "source": [
    "## What is Matplotlib?\n",
    "\n",
    "> matplotlib is a library for making 2D plots of arrays in Python\n",
    ">\n",
    "> *-matplotlib.org/users/intro.html*"
   ]
  },
  {
   "cell_type": "code",
   "execution_count": null,
   "metadata": {},
   "outputs": [],
   "source": [
    "%matplotlib inline\n",
    "import matplotlib\n",
    "import matplotlib.pyplot as plt\n",
    "import matplotlib.dates as mdt\n",
    "import pandas as pd"
   ]
  },
  {
   "cell_type": "code",
   "execution_count": null,
   "metadata": {},
   "outputs": [],
   "source": [
    "matplotlib.__version__"
   ]
  },
  {
   "cell_type": "code",
   "execution_count": null,
   "metadata": {},
   "outputs": [],
   "source": [
    "%%time\n",
    "bit = pd.read_csv('../data/coinbaseUSD_1-min_data_2014-12-01_to_2018-06-27.csv')\n",
    "bit['date'] = pd.to_datetime(bit.Timestamp, unit='s')"
   ]
  },
  {
   "cell_type": "code",
   "execution_count": null,
   "metadata": {},
   "outputs": [],
   "source": [
    "daily = (bit\n",
    "    .set_index('date')\n",
    "    .resample('d')\n",
    "    .agg({'Close': 'last', 'Open': 'first', 'High': 'max', 'Low': 'min'}))\n",
    "\n",
    "x = daily.index\n",
    "y = daily.Close"
   ]
  },
  {
   "cell_type": "code",
   "execution_count": null,
   "metadata": {},
   "outputs": [],
   "source": [
    "plt.plot(x,y)"
   ]
  },
  {
   "cell_type": "code",
   "execution_count": null,
   "metadata": {},
   "outputs": [],
   "source": [
    "# last 60 days\n",
    "days = 60\n",
    "days = 60\n",
    "x_days = x[-days:]\n",
    "y_days = y.iloc[-days:]\n",
    "plt.plot(x_days, y_days)"
   ]
  },
  {
   "cell_type": "code",
   "execution_count": null,
   "metadata": {},
   "outputs": [],
   "source": [
    "# Increase size\n",
    "# last 60 days\n",
    "fig, ax = plt.subplots(figsize=(10,8))\n",
    "days = 60\n",
    "x_days = x[-days:]\n",
    "y_days = y.iloc[-days:]\n",
    "ax.plot(x_days, y_days)"
   ]
  },
  {
   "cell_type": "code",
   "execution_count": null,
   "metadata": {
    "scrolled": false
   },
   "outputs": [],
   "source": [
    "# Add 50, 200 day MA\n",
    "# Increase size\n",
    "# last 60 days\n",
    "fig, ax = plt.subplots(figsize=(10,8))\n",
    "days = 60\n",
    "x_days = x[-days:]\n",
    "y_days = y.iloc[-days:]\n",
    "y_days_ma50 = y.rolling(50).mean().iloc[-days:]\n",
    "y_days_ma200 = y.rolling(200).mean().iloc[-days:]\n",
    "\n",
    "ax.plot(x_days, y_days, linewidth=2)\n",
    "ax.plot(x_days, y_days_ma50, color='b', linestyle='--')\n",
    "ax.plot(x_days, y_days_ma200, color='g', linestyle='--')\n"
   ]
  },
  {
   "cell_type": "code",
   "execution_count": null,
   "metadata": {},
   "outputs": [],
   "source": [
    "# Add legend\n",
    "# Add 50, 200 day MA\n",
    "# Increase size\n",
    "# last 60 days\n",
    "fig, ax = plt.subplots(figsize=(10,8))\n",
    "days = 60\n",
    "x_days = x[-days:]\n",
    "y_days = y.iloc[-days:]\n",
    "y_days_ma50 = y.rolling(50).mean().iloc[-days:]\n",
    "y_days_ma200 = y.rolling(200).mean().iloc[-days:]\n",
    "\n",
    "ax.plot(x_days, y_days, linewidth=2, label=\"Close\")\n",
    "ax.plot(x_days, y_days_ma50, color='b', linestyle='--', label=\"MA50\")\n",
    "ax.plot(x_days, y_days_ma200, color='g', linestyle='--', label=\"MA200\")\n",
    "ax.legend()\n"
   ]
  },
  {
   "cell_type": "code",
   "execution_count": null,
   "metadata": {},
   "outputs": [],
   "source": [
    "# Annotate High\n",
    "# Add legend\n",
    "# Add 50, 200 day MA\n",
    "# Increase size\n",
    "# last 60 days\n",
    "fig, ax = plt.subplots(figsize=(10,8))\n",
    "days = 60\n",
    "x_days = x[-days:]\n",
    "y_days = y.iloc[-days:]\n",
    "y_days_ma50 = y.rolling(50).mean().iloc[-days:]\n",
    "y_days_ma200 = y.rolling(200).mean().iloc[-days:]\n",
    "\n",
    "ax.plot(x_days, y_days, linewidth=2, label=\"Close\")\n",
    "ax.plot(x_days, y_days_ma50, color='b', linestyle='--', label=\"MA50\")\n",
    "ax.plot(x_days, y_days_ma200, color='g', linestyle='--', label=\"MA200\")\n",
    "ax.legend()\n",
    "\n",
    "max_val = max(y_days)\n",
    "max_idx = y_days.idxmax()\n",
    "ax.annotate(f'Max {max_val}', xy=(mdt.date2num(max_idx), max_val),\n",
    "           weight='bold', size=14)\n"
   ]
  },
  {
   "cell_type": "code",
   "execution_count": null,
   "metadata": {},
   "outputs": [],
   "source": [
    "# Add title\n",
    "# Annotate High\n",
    "# Add legend\n",
    "# Add 50, 200 day MA\n",
    "# Increase size\n",
    "# last 60 days\n",
    "fig, ax = plt.subplots(figsize=(10,8))\n",
    "days = 120\n",
    "x_days = x[-days:]\n",
    "y_days = y.iloc[-days:]\n",
    "y_days_ma50 = y.rolling(50).mean().iloc[-days:]\n",
    "y_days_ma200 = y.rolling(200).mean().iloc[-days:]\n",
    "\n",
    "ax.plot(x_days, y_days, linewidth=2, label=\"Close\")\n",
    "ax.plot(x_days, y_days_ma50, color='b', linestyle='--', label=\"MA50\")\n",
    "ax.plot(x_days, y_days_ma200, color='g', linestyle='--', label=\"MA200\")\n",
    "ax.legend()\n",
    "\n",
    "max_val = max(y_days)\n",
    "max_idx = y_days.idxmax()\n",
    "ax.annotate(f'Max {max_val}', xy=(mdt.date2num(max_idx), max_val),\n",
    "           weight='bold', size=14)\n",
    "\n",
    "min_val = min(y_days)\n",
    "min_idx = y_days.idxmin()\n",
    "ax.annotate(f'Min {min_val}', xy=(mdt.date2num(min_idx), min_val - 200),\n",
    "           weight='bold', size=14)\n",
    "\n",
    "#plt.axis('off')  # everything\n",
    "ax.get_yaxis().set_visible(False)\n",
    "for side in ['left', 'top', 'right', 'bottom']:\n",
    "    ax.spines[side].set_visible(False)\n",
    "ax.set_title(f'{days} Days of Bitcoin')\n",
    "fig.autofmt_xdate()\n"
   ]
  },
  {
   "cell_type": "code",
   "execution_count": null,
   "metadata": {},
   "outputs": [],
   "source": [
    "# Add candlesticks\n",
    "# Add title\n",
    "# Annotate High\n",
    "# Add legend\n",
    "# Add 50, 200 day MA\n",
    "# Increase size\n",
    "# last 60 days\n",
    "# \n",
    "fig = plt.figure(figsize=(10,8))\n",
    "# [left, bottom, width, height] quantities.\n",
    "\n",
    "ax = fig.add_axes((0,0,1,.6))\n",
    "days = 120\n",
    "x_days = x[-days:]\n",
    "y_days = y.iloc[-days:]\n",
    "y_days_ma50 = y.rolling(50).mean().iloc[-days:]\n",
    "y_days_ma200 = y.rolling(200).mean().iloc[-days:]\n",
    "\n",
    "ax.plot(x_days, y_days, linewidth=2, label=\"Close\")\n",
    "ax.plot(x_days, y_days_ma50, color='b', linestyle='--', label=\"MA50\")\n",
    "ax.plot(x_days, y_days_ma200, color='g', linestyle='--', label=\"MA200\")\n",
    "ax.legend()\n",
    "\n",
    "max_val = max(y_days)\n",
    "max_idx = y_days.idxmax()\n",
    "ax.annotate(f'Max {max_val}', xy=(mdt.date2num(max_idx), max_val),\n",
    "           weight='bold', size=14)\n",
    "\n",
    "min_val = min(y_days)\n",
    "min_idx = y_days.idxmin()\n",
    "ax.annotate(f'Min {min_val}', xy=(mdt.date2num(min_idx), min_val - 200),\n",
    "           weight='bold', size=14)\n",
    "\n",
    "#plt.axis('off')  # everything\n",
    "ax.get_yaxis().set_visible(False)\n",
    "for side in ['left', 'top', 'right', 'bottom']:\n",
    "    ax.spines[side].set_visible(False)\n",
    "ax.set_title(f'{days} Days of Bitcoin')\n",
    "xticks = ax.get_xticks()\n",
    "ax.set_xticks(range(int(xticks[0]), int(xticks[-1]), \n",
    "                    int((xticks[-1]-xticks[0])/7)))\n",
    "fig.autofmt_xdate()\n",
    "\n",
    "cdata = daily.iloc[-days:]\n",
    "ax2 = fig.add_axes((0,.6,1,.4))\n",
    "ax2.plot([cdata.index[0],cdata.index[0]], [3,4])\n",
    "min2 = None\n",
    "max2 = None\n",
    "for idx, row in cdata.iterrows():\n",
    "    ax2.plot([idx, idx],[row.High, row.Low], c='k', linewidth=1)\n",
    "    open_ = row.Open\n",
    "    close = row.Close\n",
    "    if open_ < close:\n",
    "        color = 'g'\n",
    "        lo = open_\n",
    "        hi = close\n",
    "    else:\n",
    "        color = 'r'\n",
    "        lo = close\n",
    "        hi = open_\n",
    "    if min2 is None or min2 > row.Low:\n",
    "        min2 = row.Low\n",
    "    if max2 is None or max2 < row.High:\n",
    "        max2 = row.High\n",
    "    ax2.plot([idx, idx],[lo, hi], c=color, linewidth=4)\n",
    "ax2.set_ylim([min2, max2])\n",
    "_ = ax2.axis('off')"
   ]
  },
  {
   "cell_type": "code",
   "execution_count": null,
   "metadata": {},
   "outputs": [],
   "source": [
    "# save\n",
    "fig.savefig('/tmp/plot.png', dpi=300)"
   ]
  },
  {
   "cell_type": "code",
   "execution_count": null,
   "metadata": {},
   "outputs": [],
   "source": [
    "# Non-Jupyter - render plot\n",
    "plt.show()"
   ]
  },
  {
   "cell_type": "code",
   "execution_count": null,
   "metadata": {},
   "outputs": [],
   "source": []
  },
  {
   "cell_type": "markdown",
   "metadata": {},
   "source": [
    "## Interfaces\n",
    "\n",
    "Matplotlib has an object-oriented interface to create *figures*, add *axes*, and plot on the *axes*. In addition there is a *state machine* interface found in the ``pyplot`` package. This interface mimics MATLAB.\n",
    "\n",
    "OO Interface:\n",
    "\n",
    "* **Figure** - The canvas. You can add axes to it.\n",
    "* **Axes** - This is a plot. It can have a title, an x label, and a y label. A 2D plot has 2 axis. A 3D plot has 3.\n",
    "* **Axis** - (Note spelling) - These hold ticks, ticklabels, and define limits. You can customize a *Locator* and *Formatter* to adjust the position and labels.\n",
    "* **Artist** - (Confusing term) for describing what you can draw on a plot.\n",
    "* **Backend** - This is the rendering engine for creating a plot (pdf, png, svg, etc) as well as an interface (pygtk, wx, macos, inline). For Jupyter, we specify the cell magic ``%matplotlib inline``"
   ]
  },
  {
   "cell_type": "code",
   "execution_count": null,
   "metadata": {},
   "outputs": [],
   "source": [
    "# OO Example\n",
    "from matplotlib.figure import Figure\n",
    "from matplotlib.backends.backend_agg import FigureCanvasAgg as FigureCanvas\n",
    "from IPython.core.display import display\n",
    "\n",
    "fig = Figure()\n",
    "FigureCanvas(fig)  # Figure needs a canvas (pyplot does this for us)\n",
    "ax = fig.add_subplot(111)\n",
    "ax.plot(x, y)\n",
    "display(fig)"
   ]
  },
  {
   "cell_type": "code",
   "execution_count": null,
   "metadata": {},
   "outputs": [],
   "source": [
    "# pyplot example\n",
    "import matplotlib.pyplot as plt\n",
    "plt.plot(x,y)"
   ]
  },
  {
   "cell_type": "code",
   "execution_count": null,
   "metadata": {},
   "outputs": [],
   "source": [
    "# In practice I create figures or axes w/ pyplot\n",
    "ax = plt.subplot(111)\n",
    "# fig, ax = plt.subplots()  # to get figure as well\n",
    "ax.plot(x, y)"
   ]
  },
  {
   "cell_type": "markdown",
   "metadata": {},
   "source": [
    "The ``plt`` interface has a few functions (``figure``, ``legend``, ``title``, ``xlabel``, ``xlim``, ``xscale``, ``xticks``, ``ylabel``, ``ylim``, ``yscale``, ``yticks``), that have corresponding accessors on ``ax``. Ie ``ax.get_xticks()``. In addition you can use ``ax.set(title='foo', xlabel='bar', xlim=(1,100))`` to set multiple attributes."
   ]
  },
  {
   "cell_type": "markdown",
   "metadata": {},
   "source": [
    "## Lab Data\n",
    "This section will load the lab data. We will be using a portion of the https://www.fueleconomy.gov/feg/download.shtml dataset. We will have a few data variables:\n",
    "\n",
    "* ``v_df`` - Raw Fuel Econonmy data\n",
    "* ``f150_df`` - All data for Ford F150's\n",
    "* ``highway`` - Average highway mileage for F150's by year\n"
   ]
  },
  {
   "cell_type": "code",
   "execution_count": null,
   "metadata": {},
   "outputs": [],
   "source": [
    "import pandas as pd\n",
    "v_df = pd.read_csv('../data/vehicles.csv.zip')\n",
    "v_df[v_df.make=='Ford'].model.value_counts()\n",
    "f150_df = v_df[(v_df.make=='Ford') & (v_df.model.str.contains('F150'))]\n",
    "highway = f150_df.groupby('year').UHighway.mean()"
   ]
  },
  {
   "cell_type": "code",
   "execution_count": null,
   "metadata": {},
   "outputs": [],
   "source": [
    "f150_df.T"
   ]
  },
  {
   "cell_type": "code",
   "execution_count": null,
   "metadata": {},
   "outputs": [],
   "source": [
    "highway"
   ]
  },
  {
   "cell_type": "markdown",
   "metadata": {},
   "source": [
    "## Exercise: Interface\n",
    "Using the ``highway`` data:\n",
    "* Plot the average mph against year using the OO style interface (you can get access to the year data by using ``highway.index``)\n",
    "* Plot the average mph against year using the ``plt`` interface\n",
    "* Bump the figure size up to 10 inches wide by 8 inches tall in both plots"
   ]
  },
  {
   "cell_type": "code",
   "execution_count": null,
   "metadata": {
    "scrolled": true
   },
   "outputs": [],
   "source": [
    "fig = Figure()\n",
    "FigureCanvas(fig)  # Figure needs a canvas (pyplot does this for us)\n",
    "ax = fig.add_subplot(111)\n",
    "#ax.plot(highway.index, highway)\n",
    "ax.plot(highway)\n",
    "display(fig)"
   ]
  },
  {
   "cell_type": "code",
   "execution_count": null,
   "metadata": {},
   "outputs": [],
   "source": [
    "plt.plot(highway)"
   ]
  },
  {
   "cell_type": "code",
   "execution_count": null,
   "metadata": {
    "scrolled": false
   },
   "outputs": [],
   "source": [
    "fig = Figure(figsize=(10,8))\n",
    "FigureCanvas(fig)  # Figure needs a canvas (pyplot does this for us)\n",
    "ax = fig.add_subplot(111)\n",
    "#ax.plot(highway.index, highway)\n",
    "ax.plot(highway)\n",
    "display(fig)"
   ]
  },
  {
   "cell_type": "code",
   "execution_count": null,
   "metadata": {},
   "outputs": [],
   "source": [
    "plt.figure(figsize=(10,8))\n",
    "plt.plot(highway)"
   ]
  },
  {
   "cell_type": "markdown",
   "metadata": {},
   "source": [
    "## Basic Plots\n",
    "Matplotlib supports a variety of plots out of the box."
   ]
  },
  {
   "cell_type": "code",
   "execution_count": null,
   "metadata": {
    "scrolled": true
   },
   "outputs": [],
   "source": [
    "# Line Plot\n",
    "fig, ax = plt.subplots()\n",
    "ax.plot(x, y)"
   ]
  },
  {
   "cell_type": "code",
   "execution_count": null,
   "metadata": {
    "scrolled": false
   },
   "outputs": [],
   "source": [
    "# Bar Plot\n",
    "fig, ax = plt.subplots(figsize=(10,8))\n",
    "ax.bar(x, y)"
   ]
  },
  {
   "cell_type": "code",
   "execution_count": null,
   "metadata": {
    "scrolled": true
   },
   "outputs": [],
   "source": [
    "# Scatter Plot - Using .scatter can be slower than plot. Use .scatter when you want to \n",
    "# tweak attribute\n",
    "fig, ax = plt.subplots(figsize=(10,8))\n",
    "ax.scatter(x, y, marker='o', alpha=.5)"
   ]
  },
  {
   "cell_type": "code",
   "execution_count": null,
   "metadata": {
    "scrolled": true
   },
   "outputs": [],
   "source": [
    "# Scatter Plot - test\n",
    "fig, ax = plt.subplots(figsize=(10,8))\n",
    "ax.plot(x, y, marker='o', alpha=.5, color='pink', markeredgecolor='red',\n",
    "        markerfacecolor='black', markeredgewidth=3)\n",
    "#ax.plot(x, y, 'o', alpha=.5)"
   ]
  },
  {
   "cell_type": "code",
   "execution_count": null,
   "metadata": {
    "scrolled": true
   },
   "outputs": [],
   "source": [
    "# Scatter Plot - Using .scatter can be slower than plot. Use .scatter when you want to \n",
    "# tweak attribute\n",
    "fig, ax = plt.subplots(figsize=(10,8))\n",
    "ax.scatter(x, y, marker='o', alpha=.5)"
   ]
  },
  {
   "cell_type": "code",
   "execution_count": null,
   "metadata": {},
   "outputs": [],
   "source": [
    "fig, ax = plt.subplots(figsize=(10,8))\n",
    "ax.scatter(f150_df.year, f150_df.UHighway, c=f150_df.city08,\n",
    "           s=f150_df.cylinders**2.4, marker='o', alpha=.5,\n",
    "           cmap='viridis')"
   ]
  },
  {
   "cell_type": "code",
   "execution_count": null,
   "metadata": {},
   "outputs": [],
   "source": [
    "fig, ax = plt.subplots(figsize=(10,8))\n",
    "ax.scatter(f150_df.city08, f150_df.UHighway, c=f150_df.city08,\n",
    "           s=f150_df.cylinders**2.4, marker='o', alpha=.5,\n",
    "           cmap='viridis')"
   ]
  },
  {
   "cell_type": "code",
   "execution_count": null,
   "metadata": {},
   "outputs": [],
   "source": [
    "print([list(g.city08) for name, g in f150_df.groupby('year')])"
   ]
  },
  {
   "cell_type": "code",
   "execution_count": null,
   "metadata": {},
   "outputs": [],
   "source": [
    "# boxplot\n",
    "fig, ax = plt.subplots(figsize=(10,8))\n",
    "data = [(name, list(g.city08)) for name, g in f150_df.groupby('year')]\n",
    "year_mileage = [x[1] for x in data]\n",
    "years = [x[0] for x in data]\n",
    "_ = ax.boxplot([list(g.city08) for name, g in f150_df.groupby('year')],\n",
    "              labels=years, vert=False)\n",
    "plt.tight_layout()"
   ]
  },
  {
   "cell_type": "code",
   "execution_count": null,
   "metadata": {},
   "outputs": [],
   "source": [
    "# violin plot\n",
    "fig, ax = plt.subplots(figsize=(10,8))\n",
    "data = [(name, list(g.city08)) for name, g in f150_df.groupby('year')]\n",
    "year_mileage = [x[1] for x in data]\n",
    "years = [x[0] for x in data]\n",
    "size = 10\n",
    "ax.violinplot([list(g.city08) for name, g in f150_df.groupby('year')][:size])\n",
    "# No labels parameter for violinplot...\n",
    "ax.set_xticks(range(1, size + 1))  # tell labels to start at 1 instead of 0\n",
    "_ = ax.set_xticklabels(years[:size])\n"
   ]
  },
  {
   "cell_type": "code",
   "execution_count": null,
   "metadata": {},
   "outputs": [],
   "source": [
    "# Histogram - careful of values that you feed it\n",
    "fig, ax = plt.subplots(figsize=(10,8))\n",
    "ax.hist(y.values)"
   ]
  },
  {
   "cell_type": "code",
   "execution_count": null,
   "metadata": {
    "scrolled": true
   },
   "outputs": [],
   "source": [
    "y  # Note NaN!"
   ]
  },
  {
   "cell_type": "code",
   "execution_count": null,
   "metadata": {
    "scrolled": false
   },
   "outputs": [],
   "source": [
    "# Histogram\n",
    "fig, ax = plt.subplots(figsize=(10,8))\n",
    "_ = ax.hist(y.dropna())"
   ]
  },
  {
   "cell_type": "code",
   "execution_count": null,
   "metadata": {
    "scrolled": false
   },
   "outputs": [],
   "source": [
    "# Histogram\n",
    "fig, ax = plt.subplots(figsize=(10,8))\n",
    "_ = ax.hist(y.dropna(), bins=100)"
   ]
  },
  {
   "cell_type": "code",
   "execution_count": null,
   "metadata": {
    "scrolled": true
   },
   "outputs": [],
   "source": [
    "pd.concat([y, y.shift(-1), y - y.shift(-1)], axis=1)"
   ]
  },
  {
   "cell_type": "code",
   "execution_count": null,
   "metadata": {},
   "outputs": [],
   "source": [
    "# Histogram\n",
    "fig, ax = plt.subplots(figsize=(10,8))\n",
    "_ = ax.hist((y - y.shift(-1)).dropna())"
   ]
  },
  {
   "cell_type": "code",
   "execution_count": null,
   "metadata": {},
   "outputs": [],
   "source": [
    "# Pie\n",
    "fig, ax = plt.subplots(figsize=(10,8))\n",
    "_=ax.pie([10, 5], labels=['10', '5'])\n",
    "ax.legend()"
   ]
  },
  {
   "cell_type": "markdown",
   "metadata": {},
   "source": [
    "## Exercise: Plot Types\n",
    "\n",
    "*  Plot a line plot of the ``highway`` data\n",
    "*  Plot a bar plot of the ``highway`` data\n",
    "* Plot a scatter plot of the ``highway`` data\n",
    "* Plot a histogram of the ``highway`` data\n",
    "* Plot a pie chart of the ``highway`` data"
   ]
  },
  {
   "cell_type": "code",
   "execution_count": null,
   "metadata": {},
   "outputs": [],
   "source": [
    "fig, ax = plt.subplots(figsize=(10,8))\n",
    "ax.plot(highway)"
   ]
  },
  {
   "cell_type": "code",
   "execution_count": null,
   "metadata": {},
   "outputs": [],
   "source": [
    "# Note that the xlim is changed for a bar plot\n",
    "fig, ax = plt.subplots(figsize=(10,8))\n",
    "_ = ax.bar(highway.index, highway)  # Note error if just highway"
   ]
  },
  {
   "cell_type": "code",
   "execution_count": null,
   "metadata": {},
   "outputs": [],
   "source": [
    "# Note that the xlim is changed for a bar plot\n",
    "fig, ax = plt.subplots(figsize=(10,8))\n",
    "_ = ax.scatter(highway.index, highway)  # Note error if just highway"
   ]
  },
  {
   "cell_type": "code",
   "execution_count": null,
   "metadata": {},
   "outputs": [],
   "source": [
    "fig, ax = plt.subplots(figsize=(10,8))\n",
    "_ = ax.hist(highway)"
   ]
  },
  {
   "cell_type": "code",
   "execution_count": null,
   "metadata": {},
   "outputs": [],
   "source": [
    "fig, ax = plt.subplots(figsize=(10,8))\n",
    "_ = ax.pie(highway, labels=highway.index)\n",
    "#ax.legend()"
   ]
  },
  {
   "cell_type": "markdown",
   "metadata": {},
   "source": [
    "## Architecture"
   ]
  },
  {
   "cell_type": "code",
   "execution_count": null,
   "metadata": {
    "scrolled": false
   },
   "outputs": [],
   "source": [
    "# Notice what ax.plot returns\n",
    "fig, ax = plt.subplots(figsize=(10,8))\n",
    "ax.plot(x, y)"
   ]
  },
  {
   "cell_type": "code",
   "execution_count": null,
   "metadata": {
    "scrolled": true
   },
   "outputs": [],
   "source": [
    "fig, ax = plt.subplots(figsize=(10,8))\n",
    "res = ax.plot(x, y)"
   ]
  },
  {
   "cell_type": "code",
   "execution_count": null,
   "metadata": {},
   "outputs": [],
   "source": [
    "print(dir(res[0]))"
   ]
  },
  {
   "cell_type": "code",
   "execution_count": null,
   "metadata": {},
   "outputs": [],
   "source": [
    "help(res[0])"
   ]
  },
  {
   "cell_type": "code",
   "execution_count": null,
   "metadata": {
    "scrolled": false
   },
   "outputs": [],
   "source": [
    "# Change color and line style\n",
    "fig, ax = plt.subplots(figsize=(10,8))\n",
    "res = ax.plot(x, y)\n",
    "line = res[0]  # Once we have line we can use tab completion\n",
    "line.set_c('#c07fef')\n",
    "line.set_linestyle('--')"
   ]
  },
  {
   "cell_type": "code",
   "execution_count": null,
   "metadata": {
    "scrolled": false
   },
   "outputs": [],
   "source": [
    "# Set the title\n",
    "fig, ax = plt.subplots(figsize=(10,8))\n",
    "res = ax.plot(x, y)\n",
    "line = res[0]  # Once we have line we can use tab completion\n",
    "line.set_c('#c07fef')\n",
    "line.set_linestyle('--')\n",
    "title = ax.set_title('Bitcoin Pricing')"
   ]
  },
  {
   "cell_type": "code",
   "execution_count": null,
   "metadata": {},
   "outputs": [],
   "source": [
    "title"
   ]
  },
  {
   "cell_type": "code",
   "execution_count": null,
   "metadata": {
    "scrolled": false
   },
   "outputs": [],
   "source": [
    "# Tweak title position\n",
    "fig, ax = plt.subplots(figsize=(10,8))\n",
    "res = ax.plot(x, y)\n",
    "line = res[0]  # Once we have line we can use tab completion\n",
    "line.set_c('#c07fef')\n",
    "line.set_linestyle('--')\n",
    "title = ax.set_title('Bitcoin Pricing')\n",
    "title.set_position((.2,.7))"
   ]
  },
  {
   "cell_type": "code",
   "execution_count": null,
   "metadata": {
    "scrolled": true
   },
   "outputs": [],
   "source": [
    "# let's look at the ax\n",
    "print(dir(ax))"
   ]
  },
  {
   "cell_type": "code",
   "execution_count": null,
   "metadata": {},
   "outputs": [],
   "source": [
    "yax = ax.get_yaxis()"
   ]
  },
  {
   "cell_type": "code",
   "execution_count": null,
   "metadata": {},
   "outputs": [],
   "source": [
    "for member in dir(yax):\n",
    "    if member.startswith('get'):\n",
    "        try:\n",
    "            print(f'{member:20}: {getattr(yax, member)()}')\n",
    "        except TypeError:\n",
    "            print(f'**ERR with {member}')\n",
    "yax.get_scale()"
   ]
  },
  {
   "cell_type": "code",
   "execution_count": null,
   "metadata": {
    "scrolled": false
   },
   "outputs": [],
   "source": [
    "# Customize tick locations\n",
    "fig, ax = plt.subplots(figsize=(10,8))\n",
    "res = ax.plot(x, y)\n",
    "line = res[0]  # Once we have line we can use tab completion\n",
    "line.set_c('#c07fef')\n",
    "line.set_linestyle('--')\n",
    "title = ax.set_title('Bitcoin Pricing')\n",
    "title.set_position((.2,.7))\n",
    "\n",
    "yax = ax.get_yaxis()\n",
    "yax.set_ticks([-50, 500, 2000, 5000, 40000])"
   ]
  },
  {
   "cell_type": "code",
   "execution_count": null,
   "metadata": {
    "scrolled": false
   },
   "outputs": [],
   "source": [
    "# Remove spines\n",
    "fig, ax = plt.subplots(figsize=(10,8))\n",
    "res = ax.plot(x, y)\n",
    "line = res[0]  # Once we have line we can use tab completion\n",
    "line.set_c('#c07fef')\n",
    "line.set_linestyle('--')\n",
    "title = ax.set_title('Bitcoin Pricing')\n",
    "title.set_position((.2,.7))\n",
    "\n",
    "yax = ax.get_yaxis()\n",
    "yax.set_ticks([-50, 500, 2000, 5000, 40000])\n",
    "\n",
    "import matplotlib\n",
    "for c in ax.get_children():\n",
    "    if isinstance(c, matplotlib.spines.Spine):\n",
    "        c.set_visible(False)"
   ]
  },
  {
   "cell_type": "code",
   "execution_count": null,
   "metadata": {
    "scrolled": false
   },
   "outputs": [],
   "source": [
    "# Remove ticks\n",
    "fig, ax = plt.subplots(figsize=(10,8))\n",
    "res = ax.plot(x, y)\n",
    "line = res[0]  # Once we have line we can use tab completion\n",
    "line.set_c('#c07fef')\n",
    "line.set_linestyle('--')\n",
    "title = ax.set_title('Bitcoin Pricing')\n",
    "title.set_position((.2,.7))\n",
    "\n",
    "yax = ax.get_yaxis()\n",
    "yax.set_ticks([-50, 500, 2000, 5000, 40000])\n",
    "\n",
    "\n",
    "import matplotlib\n",
    "for c in ax.get_children():\n",
    "    if isinstance(c, matplotlib.spines.Spine):\n",
    "        c.set_visible(False)\n",
    "        \n",
    "ax.tick_params(bottom=False, left=False)#, labelleft='on')        "
   ]
  },
  {
   "cell_type": "code",
   "execution_count": null,
   "metadata": {},
   "outputs": [],
   "source": [
    "# Jupyter hint\n",
    "ax.tick_params??"
   ]
  },
  {
   "cell_type": "markdown",
   "metadata": {},
   "source": [
    "## Exercise: Architecture\n",
    "\n",
    "Using the ``highway`` data set, create a line plot, then\n",
    "* Set the yticks to ``[10, 20, 30, 40]``\n",
    "* Add a title in the middle of the plot ``F150 Avg. Mileage``\n",
    "* Remove top and right spine"
   ]
  },
  {
   "cell_type": "code",
   "execution_count": null,
   "metadata": {},
   "outputs": [],
   "source": [
    "# Line Plot\n",
    "fig, ax = plt.subplots()\n",
    "ax.plot(highway)\n",
    "yax = ax.get_yaxis()\n",
    "yax.set_ticks([10, 20, 30, 40])\n",
    "title = ax.set_title('F150 Avg. Mileage')\n",
    "title.set_position((.5, .5))\n",
    "spines = [c for c in ax.get_children() if isinstance(c, matplotlib.spines.Spine)]\n",
    "for s in spines[1::2]:\n",
    "    s.set_visible(False)"
   ]
  },
  {
   "cell_type": "markdown",
   "metadata": {},
   "source": [
    "## Annotating Charts"
   ]
  },
  {
   "cell_type": "code",
   "execution_count": null,
   "metadata": {},
   "outputs": [],
   "source": [
    "# Add text to chart in data coordinates\n",
    "# Note Jupyter version might fail without ``clip_on=True``)\n",
    "fig, ax = plt.subplots(figsize=(10,8))\n",
    "res = ax.plot(x, y)\n",
    "ax.text(ax.get_xlim()[0], 2100, 'Bitcoin', clip_on=True)"
   ]
  },
  {
   "cell_type": "code",
   "execution_count": null,
   "metadata": {},
   "outputs": [],
   "source": [
    "# Tweak text properties\n",
    "fig, ax = plt.subplots(figsize=(10,8))\n",
    "res = ax.plot(x, y)\n",
    "# Need TTF/OTF fonts (TTC currently fail)\n",
    "ax.text(ax.get_xlim()[0], 2100, 'Bitcoin', clip_on=True,\n",
    "       family='Comic Sans MS', size=20)\n",
    "# bbox is a mpl.patches.Rectangle\n",
    "ax.text(ax.get_xlim()[0], 5700, 'Bitcoin', clip_on=True,\n",
    "       family='Serif', size=20, style='italic', bbox={'facecolor': 'red', 'alpha': .5})"
   ]
  },
  {
   "cell_type": "code",
   "execution_count": null,
   "metadata": {},
   "outputs": [],
   "source": [
    "# Add text to chart USING 0-1 coordinates\n",
    "fig, ax = plt.subplots(figsize=(10,8))\n",
    "res = ax.plot(x, y)\n",
    "# Need TTF/OTF fonts (TTC currently fail)\n",
    "ax.text(0, .2, 'Bitcoin', clip_on=True,\n",
    "       family='Comic Sans MS', size=20, \n",
    "       transform=ax.transAxes)\n",
    "# bbox is a mpl.patches.Rectangle\n",
    "ax.text(0, .5, 'Bitcoin', clip_on=True,\n",
    "       family='Serif', size=20, style='italic', \n",
    "       bbox={'facecolor': 'red', 'alpha': .5},\n",
    "       transform=ax.transAxes)"
   ]
  },
  {
   "cell_type": "code",
   "execution_count": null,
   "metadata": {
    "scrolled": false
   },
   "outputs": [],
   "source": [
    "# Add text to chart in data coordinates\n",
    "fig, ax = plt.subplots(figsize=(10,8))\n",
    "res = ax.plot(x, y)\n",
    "\n",
    "ax.annotate(f'Min {y.min()}', xy=(x.min(), y.min()), \n",
    "            xytext=(x.min(), y.min() + 300))\n",
    "\n",
    "# arrowprops is a mpl.patches.FancyArrowPatch\n",
    "_ = ax.annotate(f'Max {y.max()}', xy=(y.idxmax(), y.max()), \n",
    "                xytext=(y.idxmax()-500, y.max() + 300),\n",
    "                family='comic sans ms',\n",
    "                arrowprops={})\n"
   ]
  },
  {
   "cell_type": "code",
   "execution_count": null,
   "metadata": {
    "scrolled": false
   },
   "outputs": [],
   "source": [
    "# Add text to chart USING 0-1 coordinates\n",
    "fig, ax = plt.subplots(figsize=(10,8))\n",
    "res = ax.plot(x, y)\n",
    "\n",
    "ax.annotate(f'Min {y.min()}', xy=(0, 0), \n",
    "            xytext=(0, .1),\n",
    "            xycoords='axes fraction', \n",
    "            textcoords='axes fraction')\n",
    "\n",
    "# arrowprops is a mpl.patches.FancyArrowPatch\n",
    "_ = ax.annotate(f'Max {y.max()}', xy=(y.idxmax(), y.max()), \n",
    "                xytext=(.5, .8),\n",
    "                textcoords='axes fraction',\n",
    "                family='comic sans ms',\n",
    "                arrowprops={})\n"
   ]
  },
  {
   "cell_type": "markdown",
   "metadata": {},
   "source": [
    "## Exercise: Annotation\n",
    "Using the ``highway`` dataset. Plot a bar plot. Remove the y axis. Label each bar with its value right above (or inside of the top of) the bar. (See https://matplotlib.org/users/text_props.html page for help with rotation or vertical or horizontal alignment)"
   ]
  },
  {
   "cell_type": "code",
   "execution_count": null,
   "metadata": {},
   "outputs": [],
   "source": [
    "fig, ax = plt.subplots(figsize=(14,8))\n",
    "res = ax.bar(highway.index, highway)\n",
    "for pos, value in highway.iteritems():\n",
    "    ax.text(pos, value-1, f'{value:.0f}', \n",
    "            rotation='90',\n",
    "            ha='center',\n",
    "            color='white')\n",
    "    \n",
    "for c in ax.get_children():\n",
    "    if isinstance(c, matplotlib.spines.Spine):\n",
    "        c.set_visible(False)\n",
    "        \n",
    "ax.tick_params(bottom=False, left=False, labelleft=False)#, labelleft='on')       \n",
    "    "
   ]
  },
  {
   "cell_type": "markdown",
   "metadata": {},
   "source": [
    "## Configuring Matplotlib"
   ]
  },
  {
   "cell_type": "code",
   "execution_count": null,
   "metadata": {
    "scrolled": false
   },
   "outputs": [],
   "source": [
    "plt.style.use(plt.rcParamsDefault)\n",
    "fig, ax = plt.subplots(figsize=(10,8))\n",
    "res = ax.plot(x, y)"
   ]
  },
  {
   "cell_type": "code",
   "execution_count": null,
   "metadata": {},
   "outputs": [],
   "source": [
    "# Default style is stored here\n",
    "print(plt.rcParamsDefault)"
   ]
  },
  {
   "cell_type": "code",
   "execution_count": null,
   "metadata": {},
   "outputs": [],
   "source": [
    "print(plt.style.available)"
   ]
  },
  {
   "cell_type": "code",
   "execution_count": null,
   "metadata": {
    "scrolled": false
   },
   "outputs": [],
   "source": [
    "# note that changing the style leaves it changed\n",
    "plt.style.use('ggplot')\n",
    "fig, ax = plt.subplots(figsize=(10,8))\n",
    "res = ax.plot(x, y)"
   ]
  },
  {
   "cell_type": "code",
   "execution_count": null,
   "metadata": {},
   "outputs": [],
   "source": [
    "# use a context manager for temporary changes\n",
    "with plt.style.context('fivethirtyeight'):\n",
    "    fig, ax = plt.subplots(figsize=(10,8))\n",
    "    res = ax.plot(x, y)"
   ]
  },
  {
   "cell_type": "code",
   "execution_count": null,
   "metadata": {},
   "outputs": [],
   "source": [
    "# go back to defaults\n",
    "matplotlib.rcdefaults()\n",
    "\n",
    "fig, ax = plt.subplots(figsize=(10,8))\n",
    "res = ax.plot(x, y)"
   ]
  },
  {
   "cell_type": "code",
   "execution_count": null,
   "metadata": {},
   "outputs": [],
   "source": [
    "# can create a configuration file in $MPLCONFIGDIR environment variable\n",
    "# MPLCONFIGDIR/\n",
    "#      matplotlibrc - default styles\n",
    "#      stylelib/CUSTOM.mlpstyle - can use matplotlib.style.use('CUSTOM') \n",
    "#             (Might need to plt.style.reload_library() )\n",
    "matplotlib.get_configdir()"
   ]
  },
  {
   "cell_type": "code",
   "execution_count": null,
   "metadata": {},
   "outputs": [],
   "source": [
    "# style loading done at import time. need to reload\n",
    "import importlib, os\n",
    "folder = os.path.join(matplotlib.get_configdir(), 'stylelib')\n",
    "if not os.path.exists(folder):\n",
    "    os.mkdir(folder)\n",
    "cfg_name = os.path.join(folder, 'big.mplstyle')\n",
    "with open(cfg_name, 'w') as fout:\n",
    "    fout.write(\"\"\"\n",
    "axes.labelsize : 36\n",
    "lines.linewidth : 4\n",
    "xtick.labelsize : 24\n",
    "ytick.labelsize : 32\n",
    "    \"\"\")\n",
    "print(cfg_name)\n",
    "plt.style.reload_library()\n",
    "with plt.style.context('big'):\n",
    "    fig, ax = plt.subplots(figsize=(10,8))\n",
    "    # these fail in Jupyter currently (Sep 2018 - https://github.com/jupyter/notebook/issues/3385)\n",
    "    matplotlib.rcParams['grid.color'] = 'r'\n",
    "    matplotlib.rcParams['grid.linestyle'] = ':'\n",
    "    matplotlib.rc('grid', color='r', alpha=1, linestyle='-', linewidth=1)\n",
    "    res = ax.plot(x, y)"
   ]
  },
  {
   "cell_type": "code",
   "execution_count": null,
   "metadata": {},
   "outputs": [],
   "source": [
    "# linestyle - see help for ax.plot\n",
    "fig, ax = plt.subplots(figsize=(10,8))\n",
    "\n",
    "for i, (name, shortcut) in enumerate([('solid', '-',), ('dashed', '--'), \n",
    "    ('dashdot', '-.'), ('dotted', ':')]):\n",
    "    ax.plot(y+i*2400, linestyle=shortcut, label=name, linewidth=3)\n",
    "ax.legend()"
   ]
  },
  {
   "cell_type": "code",
   "execution_count": null,
   "metadata": {},
   "outputs": [],
   "source": [
    "# Adjust axis limits\n",
    "fig, ax = plt.subplots()\n",
    "ax.set_ylim((0, 30000))\n",
    "ax.plot(y, linestyle=shortcut, label=name, linewidth=3)\n"
   ]
  },
  {
   "cell_type": "code",
   "execution_count": null,
   "metadata": {},
   "outputs": [],
   "source": [
    "# Adjust Labels\n",
    "# Can also set with ax.axis, which can also set x/y scale to same value with 'equal'.\n",
    "fig, ax = plt.subplots()\n",
    "ax.plot(y, linestyle=shortcut, label=name, linewidth=3)\n",
    "ax.set_title('Bitcoin Close Prices')\n",
    "ax.set_xlabel('Date')\n",
    "ax.set_ylabel('Dollars')\n",
    "# ax.set(title='Bitcoin Close Prices', xlabel='Date', ylabel='Dollars')"
   ]
  },
  {
   "cell_type": "code",
   "execution_count": null,
   "metadata": {},
   "outputs": [],
   "source": [
    "# colormaps (useful on scatter plots)\n",
    "fig, ax = plt.subplots()\n",
    "ax.set_ylim((0, 30000))\n",
    "ax.scatter(x, y, alpha=.3, c=y, cmap='PiYG')"
   ]
  },
  {
   "cell_type": "code",
   "execution_count": null,
   "metadata": {},
   "outputs": [],
   "source": [
    "# see https://matplotlib.org/examples/color/colormaps_reference.html\n",
    "import numpy as np\n",
    "colormaps = [x for x in plt.cm.datad.keys() if not x.endswith('_r')]\n",
    "\n",
    "fig, axes = plt.subplots(nrows=len(colormaps), figsize=(10,18))\n",
    "plt.subplots_adjust(top=0.8,bottom=0.05,left=0.01,right=0.99)\n",
    "gradient = np.linspace(0, 1, 256)\n",
    "gradient = np.vstack((gradient, gradient))\n",
    "for i, m in enumerate(sorted(colormaps)):\n",
    "    ax = axes[i]\n",
    "    ax.set_axis_off()\n",
    "    ax.imshow(gradient,aspect='auto',\n",
    "               cmap=m)\n",
    "    pos = list(ax.get_position().bounds)\n",
    "    x_text = pos[0] - 0.01\n",
    "    y_text = pos[1] + pos[3]/2.\n",
    "    fig.text(x_text, y_text, m, va='center', ha='right', fontsize=10)\n"
   ]
  },
  {
   "cell_type": "code",
   "execution_count": null,
   "metadata": {},
   "outputs": [],
   "source": [
    "# Line Plot - Colors (can specify with HEX)\n",
    "fig, ax = plt.subplots()\n",
    "ax.plot(x, color='#C07FEF', linewidth=3, linestyle='--')"
   ]
  },
  {
   "cell_type": "code",
   "execution_count": null,
   "metadata": {},
   "outputs": [],
   "source": [
    "# Bar Plot color - pass in a single color or parallel sequence\n",
    "last10 = y.iloc[-10:]\n",
    "fig, ax = plt.subplots()\n",
    "colors = ['red' for val in last10]\n",
    "colors[0] = '#c07fef'\n",
    "colors[-1] = '#fef70c'\n",
    "ax.bar(last10.index, last10, color=colors)\n",
    "fig.autofmt_xdate()  # tweak dates\n"
   ]
  },
  {
   "cell_type": "markdown",
   "metadata": {},
   "source": [
    "## Exercise: Customize\n",
    "\n",
    "* Create a line plot of ``highway`` temporarily using the ``'dark_background'`` style, dotted lines, and a linewidth of 5\n",
    "* Using the bar plot from the annotation exercise, color all the bars grey, except color the minimum value red and the maximum value green."
   ]
  },
  {
   "cell_type": "code",
   "execution_count": null,
   "metadata": {
    "scrolled": false
   },
   "outputs": [],
   "source": [
    "# use a context manager for temporary changes\n",
    "with plt.style.context('dark_background'):\n",
    "    fig, ax = plt.subplots(figsize=(10,8))\n",
    "    res = ax.plot(highway, linewidth=5, linestyle=\"dotted\")"
   ]
  },
  {
   "cell_type": "code",
   "execution_count": null,
   "metadata": {},
   "outputs": [],
   "source": [
    "fig, ax = plt.subplots(figsize=(14,8))\n",
    "colors = ['#999999' for val in highway]\n",
    "years = highway.index\n",
    "colors[years.get_loc(highway.idxmin())] = 'r'\n",
    "colors[years.get_loc(highway.idxmax())] = 'g'\n",
    "\n",
    "res = ax.bar(highway.index, highway, color=colors)\n",
    "for pos, value in highway.iteritems():\n",
    "    ax.text(pos, value-1, f'{value:.0f}', \n",
    "            rotation='90',\n",
    "            ha='center',\n",
    "            color='w')\n",
    "    \n",
    "for c in ax.get_children():\n",
    "    if isinstance(c, matplotlib.spines.Spine):\n",
    "        c.set_visible(False)\n",
    "        \n",
    "ax.tick_params(bottom=False, left=False, labelleft=False)#, labelleft='on')       \n",
    "# tweak to clean up right tick\n",
    "xticks = ax.get_xticks()\n",
    "# tweak dates\n",
    "#ax.xaxis.set_major_locator(plt.MaxNLocator(7))\n",
    "_ = ax.set_xticks(range(1985, 2016, 5))\n",
    "\n"
   ]
  },
  {
   "cell_type": "markdown",
   "metadata": {},
   "source": [
    "## Interactive Matplotlib"
   ]
  },
  {
   "cell_type": "code",
   "execution_count": null,
   "metadata": {},
   "outputs": [],
   "source": [
    "# might have to call twice :( \n",
    "%matplotlib notebook\n",
    "%matplotlib notebook"
   ]
  },
  {
   "cell_type": "code",
   "execution_count": null,
   "metadata": {
    "scrolled": true
   },
   "outputs": [],
   "source": [
    "# Line Plot - Colors (can specify with HEX)\n",
    "fig, ax = plt.subplots()\n",
    "ax.plot(x, y, color='#C07FEF', linewidth=3, linestyle='--')"
   ]
  },
  {
   "cell_type": "code",
   "execution_count": null,
   "metadata": {},
   "outputs": [],
   "source": [
    "fig, ax = plt.subplots(figsize=(14,8))\n",
    "colors = ['#999999' for val in highway]\n",
    "years = highway.index\n",
    "colors[years.get_loc(highway.idxmin())] = 'r'\n",
    "colors[years.get_loc(highway.idxmax())] = 'g'\n",
    "\n",
    "res = ax.bar(highway.index, highway, color=colors)\n",
    "for pos, value in highway.iteritems():\n",
    "    ax.text(pos, value-1, f'{value:.0f}', \n",
    "            rotation='90',\n",
    "            ha='center',\n",
    "            color='w')\n",
    "    \n",
    "for c in ax.get_children():\n",
    "    if isinstance(c, matplotlib.spines.Spine):\n",
    "        c.set_visible(False)\n",
    "        \n",
    "ax.tick_params(bottom=False, left=False, labelleft=False)#, labelleft='on')       \n",
    "# tweak to clean up right tick\n",
    "xticks = ax.get_xticks()\n",
    "# tweak dates\n",
    "#ax.xaxis.set_major_locator(plt.MaxNLocator(7))\n",
    "_ = ax.set_xticks(range(1985, 2016, 5))\n",
    "\n"
   ]
  },
  {
   "cell_type": "code",
   "execution_count": null,
   "metadata": {},
   "outputs": [],
   "source": [
    "# Using widgets - http://jupyter.org/widgets\n",
    "import ipywidgets as ipw\n",
    "from IPython.display import display\n",
    "%matplotlib notebook"
   ]
  },
  {
   "cell_type": "code",
   "execution_count": null,
   "metadata": {},
   "outputs": [],
   "source": [
    "def update_plot(days):\n",
    "    fig, ax = plt.subplots()\n",
    "    #ax.set_ylim((0, 30000))\n",
    "    ax.plot(y.iloc[-days:], linewidth=3)\n",
    "\n",
    "days_w = ipw.IntSlider(value=20, min=5, max=120)\n",
    "ipw.interactive(update_plot, days=days_w)"
   ]
  },
  {
   "cell_type": "code",
   "execution_count": null,
   "metadata": {},
   "outputs": [],
   "source": [
    "from IPython.html import widgets\n",
    "from IPython.display import display\n",
    "\n",
    "geo={'USA':['CHI','NYC'],'Russia':['MOW','LED']}\n",
    "\n",
    "def print_city(city):\n",
    "    print(city)\n",
    "\n",
    "def select_city(country):\n",
    "    cityW.options = geo[country]\n",
    "\n",
    "\n",
    "scW = widgets.Select(options=geo.keys())\n",
    "init = scW.value\n",
    "cityW = widgets.Select(options=geo[init])\n",
    "j = widgets.interactive(print_city, city=cityW)\n",
    "i = widgets.interactive(select_city, country=scW)\n",
    "display(i)\n",
    "display(j)"
   ]
  },
  {
   "cell_type": "code",
   "execution_count": null,
   "metadata": {},
   "outputs": [],
   "source": [
    "def plot_mileage(make, model=None):\n",
    "    if model:\n",
    "        df = v_df[(v_df.make == make) & (v_df.model == model)]\n",
    "    else:\n",
    "        df = v_df[(v_df.make == make)]\n",
    "    highway = df.groupby('year').UHighway.mean()\n",
    "    fig, ax = plt.subplots(figsize=(10,6))\n",
    "    colors = ['#999999' for val in highway]\n",
    "    years = highway.index\n",
    "    colors[years.get_loc(highway.idxmin())] = 'r'\n",
    "    colors[years.get_loc(highway.idxmax())] = 'g'\n",
    "\n",
    "    res = ax.bar(highway.index, highway, color=colors)\n",
    "    for pos, value in highway.iteritems():\n",
    "        ax.text(pos, value-1, f'{value:.0f}', \n",
    "                rotation='90',\n",
    "                ha='center',\n",
    "                color='w')\n",
    "\n",
    "    for c in ax.get_children():\n",
    "        if isinstance(c, matplotlib.spines.Spine):\n",
    "            c.set_visible(False)\n",
    "\n",
    "    ax.tick_params(bottom=False, left=False, labelleft=False)#, labelleft='on')       \n",
    "    # tweak to clean up right tick\n",
    "    xticks = ax.get_xticks()\n",
    "    # tweak dates\n",
    "    #ax.xaxis.set_major_locator(plt.MaxNLocator(7))\n",
    "    _ = ax.set_xticks(range(1985, 2016, 5))\n",
    "    ax.set_title(f'{make} {model}')\n",
    "\n",
    "def plot_model(model):\n",
    "    print(model)\n",
    "    plot_mileage(make_w.value, model_w.value)\n",
    "\n",
    "def select_make(make):\n",
    "    print(\"MAKE\", make)\n",
    "    model_w.options = sorted(v_df[v_df.make==make].model.unique())\n",
    "\n",
    "\n",
    "make_w = ipw.Select(options=sorted(v_df.make.unique()))\n",
    "init = make_w.value\n",
    "model_w = ipw.Select(options=sorted(v_df[v_df.make==init].model.unique()))\n",
    "w2 = ipw.interactive(plot_model, model=model_w)\n",
    "w1 = ipw.interactive(select_make, make=make_w)\n",
    "display(w1)\n",
    "display(w2)"
   ]
  },
  {
   "cell_type": "markdown",
   "metadata": {},
   "source": [
    "## Exercise: Interactive\n",
    "* Using the ``highway`` dataset, plot the mileage for F150 in an interactive plot\n",
    "* Create a new dataframe ``f150_mean`` using the following code:\n",
    "\n",
    "      f150_mean = f150_df.groupby('year').mean()\n",
    "      \n",
    "  Using an ipython select widget, make a field dropdown with the column names in it. When the column is selected, plot a line plot for that field."
   ]
  },
  {
   "cell_type": "code",
   "execution_count": null,
   "metadata": {},
   "outputs": [],
   "source": [
    "%matplotlib notebook\n",
    "fig, ax = plt.subplots()\n",
    "ax.plot(highway)"
   ]
  },
  {
   "cell_type": "code",
   "execution_count": null,
   "metadata": {},
   "outputs": [],
   "source": [
    "f150_mean = f150_df.groupby('year').mean()\n",
    "\n",
    "def plot_col(col):\n",
    "    fig, ax = plt.subplots()\n",
    "    ax.plot(f150_mean[col])\n",
    "\n",
    "col_w = ipw.Select(options=sorted(f150_mean.columns))\n",
    "w1 = ipw.interactive(plot_col, col=col_w)\n",
    "display(w1)"
   ]
  },
  {
   "cell_type": "markdown",
   "metadata": {},
   "source": [
    "## 3D and other Tools"
   ]
  },
  {
   "cell_type": "code",
   "execution_count": null,
   "metadata": {},
   "outputs": [],
   "source": [
    "prius = (\n",
    "    v_df[(v_df.make == \"Toyota\") & (v_df.model == \"Prius\")]\n",
    "        .groupby('year')\n",
    "        .mean()\n",
    ")"
   ]
  },
  {
   "cell_type": "code",
   "execution_count": null,
   "metadata": {},
   "outputs": [],
   "source": [
    "prius.T"
   ]
  },
  {
   "cell_type": "code",
   "execution_count": null,
   "metadata": {},
   "outputs": [],
   "source": [
    "%matplotlib notebook\n",
    "from mpl_toolkits.mplot3d import Axes3D\n",
    "fig = plt.figure()\n",
    "ax = fig.add_subplot(111, projection='3d')\n",
    "ax.scatter(xs=prius.city08, ys=prius.highway08, zs=prius.index)"
   ]
  },
  {
   "cell_type": "code",
   "execution_count": null,
   "metadata": {},
   "outputs": [],
   "source": [
    "%matplotlib inline\n",
    "# Personally try to avoid 3D (though interactivity helps)\n",
    "# Alternative is to plot scatterplots of pairs of variables\n",
    "# Annoying in Matplotlib ... but\n",
    "\n",
    "import seaborn as sns\n",
    "res = sns.pairplot(data=prius.reset_index()[['year', 'city08', 'highway08']])\n",
    "#res.axes[0][0].plot(range(10))"
   ]
  },
  {
   "cell_type": "code",
   "execution_count": null,
   "metadata": {},
   "outputs": [],
   "source": [
    "# notices the ``axes`` and ``fig``\n",
    "print(dir(res))"
   ]
  },
  {
   "cell_type": "code",
   "execution_count": null,
   "metadata": {},
   "outputs": [],
   "source": [
    "%matplotlib inline\n",
    "%matplotlib inline\n",
    "\n",
    "# pandas\n",
    "ax = y.plot()\n",
    "ax.set_title('Pandas plot of Bitcoin')"
   ]
  },
  {
   "cell_type": "code",
   "execution_count": null,
   "metadata": {},
   "outputs": [],
   "source": [
    "%matplotlib inline\n",
    "\n",
    "# pandas\n",
    "ax = y.iloc[-20:].plot.bar()\n",
    "ax.set_title('Pandas plot of Bitcoin')"
   ]
  },
  {
   "cell_type": "code",
   "execution_count": null,
   "metadata": {},
   "outputs": [],
   "source": [
    "%matplotlib inline\n",
    "\n",
    "# pandas\n",
    "ax = y.iloc[-20:].plot.bar()\n",
    "ax.set_title('Pandas plot of Bitcoin')\n",
    "fig = ax.get_figure()\n",
    "fig.set_size_inches(10,8)\n",
    "fig.autofmt_xdate()\n"
   ]
  },
  {
   "cell_type": "code",
   "execution_count": null,
   "metadata": {},
   "outputs": [],
   "source": [
    "%matplotlib inline\n",
    "\n",
    "# pandas\n",
    "ax = y.iloc[-20:].plot.barh()\n",
    "ax.set_title('Pandas plot of Bitcoin')"
   ]
  },
  {
   "cell_type": "code",
   "execution_count": null,
   "metadata": {},
   "outputs": [],
   "source": [
    "prius"
   ]
  },
  {
   "cell_type": "code",
   "execution_count": null,
   "metadata": {},
   "outputs": [],
   "source": [
    "prius.reset_index()['year']"
   ]
  },
  {
   "cell_type": "code",
   "execution_count": null,
   "metadata": {},
   "outputs": [],
   "source": [
    "# note Matplotlib as of 1.5 has some support for pandas DataFrames\n",
    "fig = plt.figure()\n",
    "ax = fig.add_subplot(111)\n",
    "#ax.plot(x='year', y='city08', data=prius.reset_index())  # Fails!!!\n",
    "ax.plot('year', 'city08', data=prius.reset_index())"
   ]
  },
  {
   "cell_type": "markdown",
   "metadata": {},
   "source": [
    "## Other options for Plotting\n",
    "* Bokeh - Aimed at HTML plots (interactive)\n",
    "* Plotly - Service for plotting\n",
    "* Altair - Declarative visualization"
   ]
  },
  {
   "cell_type": "markdown",
   "metadata": {},
   "source": [
    "## Exercise: 3D and Pandas\n",
    "* Plot a 3D scatter plot with the ``prius`` dataset, plotting 'co2TailpipeGpm', 'city08', and 'year'\n",
    "* Use pandas with the ``highway`` dataset. Plot a bar plot. Remove the y axis. Label each bar with its value right above (or inside of the top of) the bar. (See https://matplotlib.org/users/text_props.html page for help with rotation or vertical or horizontal alignment). Color all the bars grey, except color the minimum value red and the maximum value green.\n"
   ]
  },
  {
   "cell_type": "code",
   "execution_count": null,
   "metadata": {},
   "outputs": [],
   "source": [
    "%matplotlib notebook\n",
    "\n",
    "from mpl_toolkits.mplot3d import Axes3D\n",
    "fig = plt.figure()\n",
    "ax = fig.add_subplot(111, projection='3d')\n",
    "ax.scatter(xs=prius.city08, ys=prius.co2TailpipeGpm, zs=prius.index)"
   ]
  },
  {
   "cell_type": "code",
   "execution_count": null,
   "metadata": {},
   "outputs": [],
   "source": [
    "%matplotlib inline\n",
    "fig = plt.figure(figsize=(10,8))\n",
    "ax = fig.add_subplot(111)\n",
    "colors = ['#999999' for val in highway]\n",
    "years = highway.index\n",
    "colors[years.get_loc(highway.idxmin())] = 'r'\n",
    "colors[years.get_loc(highway.idxmax())] = 'g'\n",
    "# Using pandas! instead of matplotlib interface\n",
    "ax = highway.plot.bar(color=colors, width=.75)\n",
    "\n",
    "# Need to use ``i`` instead of pos for text!!!\n",
    "for i, (pos, value) in enumerate(highway.iteritems()):\n",
    "    ax.text(i, value-1, f'{value:.0f}', \n",
    "            rotation='90',\n",
    "            ha='center',\n",
    "            color='w')\n",
    "\n",
    "for c in ax.get_children():\n",
    "    if isinstance(c, matplotlib.spines.Spine):\n",
    "        c.set_visible(False)\n",
    "\n",
    "ax.tick_params(bottom=False, left=False, labelleft=False)#, labelleft='on')       \n",
    "_ = ax.set_title('F150 Highway Mileage')"
   ]
  }
 ],
 "metadata": {
  "kernelspec": {
   "display_name": "Python 3",
   "language": "python",
   "name": "python3"
  },
  "language_info": {
   "codemirror_mode": {
    "name": "ipython",
    "version": 3
   },
   "file_extension": ".py",
   "mimetype": "text/x-python",
   "name": "python",
   "nbconvert_exporter": "python",
   "pygments_lexer": "ipython3",
   "version": "3.7.0"
  }
 },
 "nbformat": 4,
 "nbformat_minor": 2
}
